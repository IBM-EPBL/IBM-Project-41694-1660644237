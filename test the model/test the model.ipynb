{
 "cells": [
  {
   "cell_type": "code",
   "execution_count": 1,
   "id": "32fbde2e",
   "metadata": {},
   "outputs": [],
   "source": [
    "from keras.models import load_model\n",
    "import numpy as np\n",
    "import cv2"
   ]
  },
  {
   "cell_type": "code",
   "execution_count": 2,
   "id": "0b387f87",
   "metadata": {},
   "outputs": [],
   "source": [
    "model=load_model('aslpng1.h5')"
   ]
  },
  {
   "cell_type": "code",
   "execution_count": 3,
   "id": "1d05ed7e",
   "metadata": {},
   "outputs": [],
   "source": [
    "from skimage.transform import resize\n",
    "def detect(frame):\n",
    "    img=resize(frame,(64,64,1))\n",
    "    img=np.expand_dims(img,axis=0)\n",
    "    if(np.max(img)>1):\n",
    "        img=img/255.0\n",
    "        prediction = model.predict(img)\n",
    "        print(prediction)\n",
    "        prediction=model.predict_classes(img)\n",
    "        print(prediction)"
   ]
  },
  {
   "cell_type": "code",
   "execution_count": 16,
   "id": "796b3427",
   "metadata": {},
   "outputs": [],
   "source": [
    "frame = cv2.imread(r'C:\\Users\\ketziyal\\Downloads\\Dataset\\test_set\\A\\2.png')\n",
    "data = detect(frame)"
   ]
  },
  {
   "cell_type": "code",
   "execution_count": 20,
   "id": "fa03a53a",
   "metadata": {},
   "outputs": [],
   "source": [
    "img= cv2.imread('C:\\\\Users\\\\ketziyal\\\\Downloads\\\\Dataset\\\\test_set\\\\A.png')"
   ]
  },
  {
   "cell_type": "code",
   "execution_count": 46,
   "id": "b779da9b",
   "metadata": {},
   "outputs": [],
   "source": [
    "import cv2 \n",
    "import numpy as np"
   ]
  },
  {
   "cell_type": "code",
   "execution_count": 47,
   "id": "aead2dd6",
   "metadata": {},
   "outputs": [],
   "source": [
    "img= cv2.imread('C:\\\\Users\\\\ketziyal\\\\Downloads\\\\Dataset\\\\test_set\\\\A.png')"
   ]
  },
  {
   "cell_type": "code",
   "execution_count": 48,
   "id": "54dd9c7c",
   "metadata": {},
   "outputs": [],
   "source": [
    "img=cv2.imread('C:\\\\Users\\\\ketziyal\\\\Downloads\\\\Dataset\\\\test_set.jpg')"
   ]
  },
  {
   "cell_type": "code",
   "execution_count": 55,
   "id": "1696523a",
   "metadata": {},
   "outputs": [
    {
     "ename": "error",
     "evalue": "OpenCV(4.6.0) D:\\a\\opencv-python\\opencv-python\\opencv\\modules\\highgui\\src\\window.cpp:967: error: (-215:Assertion failed) size.width>0 && size.height>0 in function 'cv::imshow'\n",
     "output_type": "error",
     "traceback": [
      "\u001b[1;31m---------------------------------------------------------------------------\u001b[0m",
      "\u001b[1;31merror\u001b[0m                                     Traceback (most recent call last)",
      "\u001b[1;32m~\\AppData\\Local\\Temp\\ipykernel_10528\\2487144000.py\u001b[0m in \u001b[0;36m<module>\u001b[1;34m\u001b[0m\n\u001b[1;32m----> 1\u001b[1;33m \u001b[0mcv2\u001b[0m\u001b[1;33m.\u001b[0m\u001b[0mimshow\u001b[0m\u001b[1;33m(\u001b[0m\u001b[1;34m'image'\u001b[0m\u001b[1;33m,\u001b[0m\u001b[0mimg\u001b[0m\u001b[1;33m)\u001b[0m\u001b[1;33m\u001b[0m\u001b[1;33m\u001b[0m\u001b[0m\n\u001b[0m\u001b[0;32m      2\u001b[0m \u001b[0mcv2\u001b[0m\u001b[1;33m.\u001b[0m\u001b[0mwaitkey\u001b[0m\u001b[1;33m(\u001b[0m\u001b[1;36m0\u001b[0m\u001b[1;33m)\u001b[0m\u001b[1;33m\u001b[0m\u001b[1;33m\u001b[0m\u001b[0m\n\u001b[0;32m      3\u001b[0m \u001b[0mcv2\u001b[0m\u001b[1;33m.\u001b[0m\u001b[0mdestroyAllWindows\u001b[0m\u001b[1;33m(\u001b[0m\u001b[1;33m)\u001b[0m\u001b[1;33m\u001b[0m\u001b[1;33m\u001b[0m\u001b[0m\n",
      "\u001b[1;31merror\u001b[0m: OpenCV(4.6.0) D:\\a\\opencv-python\\opencv-python\\opencv\\modules\\highgui\\src\\window.cpp:967: error: (-215:Assertion failed) size.width>0 && size.height>0 in function 'cv::imshow'\n"
     ]
    }
   ],
   "source": [
    "cv2.imshow('image',img)\n",
    "cv2.waitkey(0)\n",
    "cv2.destroyAllWindows()"
   ]
  },
  {
   "cell_type": "code",
   "execution_count": 26,
   "id": "9f977fa4",
   "metadata": {},
   "outputs": [
    {
     "name": "stdout",
     "output_type": "stream",
     "text": [
      "Collecting imshow\n",
      "  Downloading imshow-0.0.3.tar.gz (2.2 kB)\n",
      "  Preparing metadata (setup.py): started\n",
      "  Preparing metadata (setup.py): finished with status 'done'\n",
      "Requirement already satisfied: matplotlib in c:\\users\\ketziyal\\anaconda3\\lib\\site-packages (from imshow) (3.5.2)\n",
      "Requirement already satisfied: numpy in c:\\users\\ketziyal\\anaconda3\\lib\\site-packages (from imshow) (1.21.5)\n",
      "Requirement already satisfied: fonttools>=4.22.0 in c:\\users\\ketziyal\\anaconda3\\lib\\site-packages (from matplotlib->imshow) (4.25.0)\n",
      "Requirement already satisfied: pillow>=6.2.0 in c:\\users\\ketziyal\\anaconda3\\lib\\site-packages (from matplotlib->imshow) (9.2.0)\n",
      "Requirement already satisfied: packaging>=20.0 in c:\\users\\ketziyal\\anaconda3\\lib\\site-packages (from matplotlib->imshow) (21.3)\n",
      "Requirement already satisfied: python-dateutil>=2.7 in c:\\users\\ketziyal\\anaconda3\\lib\\site-packages (from matplotlib->imshow) (2.8.2)\n",
      "Requirement already satisfied: kiwisolver>=1.0.1 in c:\\users\\ketziyal\\anaconda3\\lib\\site-packages (from matplotlib->imshow) (1.4.2)\n",
      "Requirement already satisfied: cycler>=0.10 in c:\\users\\ketziyal\\anaconda3\\lib\\site-packages (from matplotlib->imshow) (0.11.0)\n",
      "Requirement already satisfied: pyparsing>=2.2.1 in c:\\users\\ketziyal\\anaconda3\\lib\\site-packages (from matplotlib->imshow) (3.0.9)\n",
      "Requirement already satisfied: six>=1.5 in c:\\users\\ketziyal\\anaconda3\\lib\\site-packages (from python-dateutil>=2.7->matplotlib->imshow) (1.16.0)\n",
      "Building wheels for collected packages: imshow\n",
      "  Building wheel for imshow (setup.py): started\n",
      "  Building wheel for imshow (setup.py): finished with status 'done'\n",
      "  Created wheel for imshow: filename=imshow-0.0.3-py3-none-any.whl size=2446 sha256=86c73f2edcfa71ec55fc59c14bf9dd67de84971d4c1192044a8984ea0f2723c1\n",
      "  Stored in directory: c:\\users\\ketziyal\\appdata\\local\\pip\\cache\\wheels\\6b\\50\\ea\\c6d37a9b278be54a189ac406afcf471d17de559de1295915d5\n",
      "Successfully built imshow\n",
      "Installing collected packages: imshow\n",
      "Successfully installed imshow-0.0.3\n",
      "Note: you may need to restart the kernel to use updated packages.\n"
     ]
    }
   ],
   "source": [
    "pip install imshow"
   ]
  },
  {
   "cell_type": "code",
   "execution_count": null,
   "id": "30c3865b",
   "metadata": {},
   "outputs": [],
   "source": []
  }
 ],
 "metadata": {
  "kernelspec": {
   "display_name": "Python 3 (ipykernel)",
   "language": "python",
   "name": "python3"
  },
  "language_info": {
   "codemirror_mode": {
    "name": "ipython",
    "version": 3
   },
   "file_extension": ".py",
   "mimetype": "text/x-python",
   "name": "python",
   "nbconvert_exporter": "python",
   "pygments_lexer": "ipython3",
   "version": "3.9.13"
  }
 },
 "nbformat": 4,
 "nbformat_minor": 5
}
